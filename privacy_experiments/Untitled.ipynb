{
 "cells": [
  {
   "cell_type": "code",
   "execution_count": 7,
   "id": "4819e331",
   "metadata": {},
   "outputs": [],
   "source": [
    "import numpy as np\n",
    "import matplotlib.pyplot as plt"
   ]
  },
  {
   "cell_type": "code",
   "execution_count": 12,
   "id": "b5d13873",
   "metadata": {},
   "outputs": [],
   "source": [
    "x = np.random.normal(size=100)\n",
    "cnts, bins = np.histogram(x)"
   ]
  },
  {
   "cell_type": "code",
   "execution_count": 51,
   "id": "a8494713",
   "metadata": {},
   "outputs": [
    {
     "data": {
      "text/plain": [
       "1.0"
      ]
     },
     "execution_count": 51,
     "metadata": {},
     "output_type": "execute_result"
    }
   ],
   "source": [
    "delta = 0.05\n",
    "delta_hist = (xmax - xmin) / (len(bins) - 1)\n",
    "xmin = np.min(x)\n",
    "xmax = np.max(x)\n",
    "\n",
    "np.sum(cnts / cnts.sum() * (1 - delta) + delta / (len(bins) - 1))"
   ]
  },
  {
   "cell_type": "code",
   "execution_count": 14,
   "id": "b1df074d",
   "metadata": {},
   "outputs": [
    {
     "name": "stdout",
     "output_type": "stream",
     "text": [
      "0.4702034399094236\n",
      "0.4702034399094237\n"
     ]
    }
   ],
   "source": [
    "\n",
    "delta = \n",
    "print(delta)\n",
    "print(bins[1] - bins[0])"
   ]
  },
  {
   "cell_type": "code",
   "execution_count": 38,
   "id": "315c5ebd",
   "metadata": {},
   "outputs": [
    {
     "data": {
      "text/plain": [
       "[<matplotlib.lines.Line2D at 0x11d511c40>]"
      ]
     },
     "execution_count": 38,
     "metadata": {},
     "output_type": "execute_result"
    },
    {
     "data": {
      "image/png": "[encoded data removed]",
      "text/plain": [
       "<Figure size 432x288 with 1 Axes>"
      ]
     },
     "metadata": {
      "needs_background": "light"
     },
     "output_type": "display_data"
    }
   ],
   "source": [
    "n = 250\n",
    "m = 2 * int(n ** (1/5) + 1)\n",
    "k = 2 * int(n ** (3/5) + 1)\n",
    "alpha = 100.0\n",
    "dgrid = np.linspace(0.01, 1, 100)\n",
    "plt.plot(dgrid, (1 - dgrid) / dgrid)\n",
    "plt.plot(dgrid, n / m * np.exp(alpha / k - 1)  * np.ones_like(dgrid))"
   ]
  },
  {
   "cell_type": "code",
   "execution_count": 37,
   "id": "1e773904",
   "metadata": {},
   "outputs": [
    {
     "data": {
      "text/plain": [
       "2.193973505111555"
      ]
     },
     "execution_count": 37,
     "metadata": {},
     "output_type": "execute_result"
    }
   ],
   "source": [
    "np.exp(100 / k - 1)"
   ]
  },
  {
   "cell_type": "code",
   "execution_count": 16,
   "id": "254710af",
   "metadata": {},
   "outputs": [
    {
     "data": {
      "text/plain": [
       "array([ 7,  5,  7,  5,  4,  2,  4,  7,  6,  6,  2,  5,  3,  7,  3,  4,  7,\n",
       "        6,  8,  5,  2,  3,  6,  7,  5,  8,  5,  5,  3,  2, 10,  3,  6,  6,\n",
       "        3,  6,  5,  1,  4,  5,  2,  1,  7,  6,  4,  4,  5,  5,  3,  4,  5,\n",
       "        0,  7,  5,  1,  3,  3,  0,  7,  6,  3,  4,  8,  3,  6,  3,  9,  6,\n",
       "        1,  0,  5,  8,  4,  5,  3,  5,  3,  3,  3,  6,  7,  1,  6,  2,  3,\n",
       "        4,  0,  8,  6,  6,  6,  7,  3,  4,  6,  4,  5,  5,  4,  4])"
      ]
     },
     "execution_count": 16,
     "metadata": {},
     "output_type": "execute_result"
    }
   ],
   "source": [
    "((x - xmin) / delta).astype(int)"
   ]
  },
  {
   "cell_type": "code",
   "execution_count": 190,
   "id": "7a0684c7",
   "metadata": {},
   "outputs": [
    {
     "data": {
      "text/plain": [
       "array([[-2.1199983 , -1.6906492 ],\n",
       "       [-1.6906492 , -1.2613001 ],\n",
       "       [-1.2613001 , -0.831951  ],\n",
       "       [-0.831951  , -0.40260189],\n",
       "       [-0.40260189,  0.02674721],\n",
       "       [ 0.02674721,  0.45609631],\n",
       "       [ 0.45609631,  0.88544541],\n",
       "       [ 0.88544541,  1.31479451],\n",
       "       [ 1.31479451,  1.74414361],\n",
       "       [ 1.74414361,  2.17349272]])"
      ]
     },
     "execution_count": 190,
     "metadata": {},
     "output_type": "execute_result"
    }
   ],
   "source": [
    "np.hstack([bins[:-1].reshape(-1, 1), bins[1:].reshape(-1, 1)])"
   ]
  },
  {
   "cell_type": "code",
   "execution_count": 191,
   "id": "5100ea9e",
   "metadata": {},
   "outputs": [
    {
     "data": {
      "text/plain": [
       "-0.5684518274198161"
      ]
     },
     "execution_count": 191,
     "metadata": {},
     "output_type": "execute_result"
    }
   ],
   "source": [
    "x[1]"
   ]
  },
  {
   "cell_type": "code",
   "execution_count": 174,
   "id": "438e5598",
   "metadata": {},
   "outputs": [
    {
     "data": {
      "text/plain": [
       "(array([36]),)"
      ]
     },
     "execution_count": 174,
     "metadata": {},
     "output_type": "execute_result"
    }
   ],
   "source": [
    "np.where(x == np.max(x))"
   ]
  },
  {
   "cell_type": "code",
   "execution_count": 172,
   "id": "0326a73b",
   "metadata": {},
   "outputs": [
    {
     "data": {
      "text/plain": [
       "array([-2.1199983 , -1.6906492 , -1.2613001 , -0.831951  , -0.40260189,\n",
       "        0.02674721,  0.45609631,  0.88544541,  1.31479451,  1.74414361,\n",
       "        2.17349272])"
      ]
     },
     "execution_count": 172,
     "metadata": {},
     "output_type": "execute_result"
    }
   ],
   "source": [
    "bins"
   ]
  },
  {
   "cell_type": "code",
   "execution_count": null,
   "id": "e247f04d",
   "metadata": {},
   "outputs": [],
   "source": []
  }
 ],
 "metadata": {
  "kernelspec": {
   "display_name": "Python 3 (ipykernel)",
   "language": "python",
   "name": "python3"
  },
  "language_info": {
   "codemirror_mode": {
    "name": "ipython",
    "version": 3
   },
   "file_extension": ".py",
   "mimetype": "text/x-python",
   "name": "python",
   "nbconvert_exporter": "python",
   "pygments_lexer": "ipython3",
   "version": "3.9.12"
  }
 },
 "nbformat": 4,
 "nbformat_minor": 5
}
